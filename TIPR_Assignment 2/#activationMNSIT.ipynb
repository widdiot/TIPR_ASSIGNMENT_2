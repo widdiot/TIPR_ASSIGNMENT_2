{
 "cells": [
  {
   "cell_type": "code",
   "execution_count": 7,
   "metadata": {},
   "outputs": [],
   "source": [
    "import numpy\n",
    "import numpy as np\n",
    "import pandas\n",
    "import cv2\n",
    "from keras.models import Sequential\n",
    "from keras.layers import Dense\n",
    "from keras.layers import Activation\n",
    "from keras.wrappers.scikit_learn import KerasClassifier\n",
    "from keras.utils import np_utils\n",
    "from sklearn.metrics import f1_score\n",
    "import matplotlib.pyplot as plt\n",
    "from keras import backend as K\n",
    "from keras.layers import Activation\n",
    "from keras.utils.generic_utils import get_custom_objects"
   ]
  },
  {
   "cell_type": "code",
   "execution_count": 5,
   "metadata": {},
   "outputs": [],
   "source": [
    "def swish(x):\n",
    "    return (K.sigmoid(x) * x)"
   ]
  },
  {
   "cell_type": "code",
   "execution_count": 8,
   "metadata": {},
   "outputs": [],
   "source": [
    "get_custom_objects().update({'swish': swish})"
   ]
  },
  {
   "cell_type": "code",
   "execution_count": 2,
   "metadata": {},
   "outputs": [],
   "source": [
    "# load dataset\n",
    "images = []\n",
    "labels = []\n",
    "from imutils import paths\n",
    "for imagePath in paths.list_images(\"/home/vishay/Downloads/tipr-second-assignment-master/data/MNIST\"):\n",
    "    images.append(cv2.imread(imagePath,0).flatten())\n",
    "    labels.append(imagePath.split('/')[-2])\n",
    "images = np.array(images)\n",
    "labels = np.array(labels,dtype = int)"
   ]
  },
  {
   "cell_type": "code",
   "execution_count": 3,
   "metadata": {},
   "outputs": [],
   "source": [
    "dummy_y = np_utils.to_categorical(labels)"
   ]
  },
  {
   "cell_type": "code",
   "execution_count": 4,
   "metadata": {},
   "outputs": [],
   "source": [
    "from sklearn.model_selection import train_test_split\n",
    "X_train, X_test, y_train, y_test = train_test_split(images, dummy_y, test_size=0.33, random_state=42)"
   ]
  },
  {
   "cell_type": "code",
   "execution_count": 9,
   "metadata": {},
   "outputs": [],
   "source": [
    "def build_model():\n",
    "    global hidden_layer_sizes\n",
    "    global funct\n",
    "    model = Sequential()\n",
    "\n",
    "    model.add(Dense(hidden_layer_sizes[0], input_dim=784))\n",
    "    model.add(Activation(funct))\n",
    "\n",
    "    for layer_size in hidden_layer_sizes[1:]:\n",
    "        model.add(Dense(layer_size))\n",
    "        model.add(Activation(funct))\n",
    "\n",
    "    model.add(Dense(10))\n",
    "    model.add(Activation('softmax'))\n",
    "    model.compile(loss='categorical_crossentropy', optimizer='adam', metrics=['accuracy'])\n",
    "    return model"
   ]
  },
  {
   "cell_type": "code",
   "execution_count": 10,
   "metadata": {},
   "outputs": [],
   "source": [
    "activation = ['sigmoid','tanh','relu','swish']"
   ]
  },
  {
   "cell_type": "code",
   "execution_count": 11,
   "metadata": {},
   "outputs": [
    {
     "name": "stdout",
     "output_type": "stream",
     "text": [
      "Epoch 1/3\n",
      "28140/28140 [==============================] - 1s 52us/step - loss: 1.6455 - acc: 0.4241\n",
      "Epoch 2/3\n",
      "28140/28140 [==============================] - 1s 46us/step - loss: 0.9429 - acc: 0.6935\n",
      "Epoch 3/3\n",
      "28140/28140 [==============================] - 1s 46us/step - loss: 0.7811 - acc: 0.7531\n",
      "13860/13860 [==============================] - 0s 17us/step\n",
      "Epoch 1/3\n",
      "28140/28140 [==============================] - 2s 57us/step - loss: 0.8214 - acc: 0.7302\n",
      "Epoch 2/3\n",
      "28140/28140 [==============================] - 1s 51us/step - loss: 0.6137 - acc: 0.7957\n",
      "Epoch 3/3\n",
      "28140/28140 [==============================] - 1s 47us/step - loss: 0.5264 - acc: 0.8281\n",
      "13860/13860 [==============================] - 0s 20us/step\n",
      "Epoch 1/3\n",
      "28140/28140 [==============================] - 1s 53us/step - loss: 1.2132 - acc: 0.7950\n",
      "Epoch 2/3\n",
      "28140/28140 [==============================] - 1s 47us/step - loss: 0.2738 - acc: 0.9205\n",
      "Epoch 3/3\n",
      "28140/28140 [==============================] - 1s 47us/step - loss: 0.2101 - acc: 0.9375\n",
      "13860/13860 [==============================] - 0s 22us/step\n",
      "Epoch 1/3\n",
      "28140/28140 [==============================] - 2s 57us/step - loss: 1.9917 - acc: 0.7508\n",
      "Epoch 2/3\n",
      "28140/28140 [==============================] - 1s 47us/step - loss: 0.2897 - acc: 0.9186\n",
      "Epoch 3/3\n",
      "28140/28140 [==============================] - 1s 47us/step - loss: 0.2025 - acc: 0.9411\n",
      "13860/13860 [==============================] - 0s 23us/step\n"
     ]
    }
   ],
   "source": [
    "accuracy = []\n",
    "f1micro = []\n",
    "f1macro = []\n",
    "for i in activation:\n",
    "    funct = i\n",
    "    hidden_layer_sizes = [64]*5\n",
    "               \n",
    "    estimator = KerasClassifier(build_fn=build_model, epochs=3, batch_size=50, verbose=1)\n",
    "    estimator.fit(X_train,y_train)\n",
    "    s = estimator.predict(X_test)\n",
    "    label = [np.argmax(y_test[i,:]) for i in range(len(y_test))]\n",
    "    label = np.array(label)\n",
    "    total = 0\n",
    "    correct = 0\n",
    "    for i in range(len(s)):\n",
    "        total += 1\n",
    "        if s[i] == label[i]:\n",
    "            correct += 1\n",
    "    acc = correct/total\n",
    "\n",
    "    f1mi = f1_score(label, s, average='macro',labels=np.unique(s) )  \n",
    "    f1ma = f1_score(label, s, average='micro',labels=np.unique(s)) \n",
    "    \n",
    "    accuracy.append(acc)\n",
    "    f1micro.append(f1mi)\n",
    "    f1macro.append(f1ma)\n"
   ]
  },
  {
   "cell_type": "code",
   "execution_count": 21,
   "metadata": {},
   "outputs": [
    {
     "data": {
      "image/png": "[encoded data removed]",
      "text/plain": [
       "<matplotlib.figure.Figure at 0x7ff65ce3d940>"
      ]
     },
     "metadata": {},
     "output_type": "display_data"
    }
   ],
   "source": [
    "plt.plot(range(4),accuracy)\n",
    "\n",
    "plt.title(\"accuracy vs activation function\")\n",
    "x = np.array(range(4))\n",
    "y = np.array(accuracy)\n",
    "plt.xticks(x, activation)\n",
    "plt.plot(x, y)\n",
    "plt.show()"
   ]
  },
  {
   "cell_type": "code",
   "execution_count": 22,
   "metadata": {},
   "outputs": [
    {
     "data": {
      "image/png": "[encoded data removed]",
      "text/plain": [
       "<matplotlib.figure.Figure at 0x7ff65ce8efd0>"
      ]
     },
     "metadata": {},
     "output_type": "display_data"
    }
   ],
   "source": [
    "plt.plot(range(4),f1macro)\n",
    "\n",
    "plt.title(\"f1macro vs number of activation function\")\n",
    "x = np.array(range(4))\n",
    "y = np.array(f1macro)\n",
    "plt.xticks(x, activation)\n",
    "plt.plot(x, y)\n",
    "plt.show()"
   ]
  },
  {
   "cell_type": "code",
   "execution_count": 23,
   "metadata": {},
   "outputs": [
    {
     "data": {
      "image/png": "[encoded data removed]",
      "text/plain": [
       "<matplotlib.figure.Figure at 0x7ff65cfbd710>"
      ]
     },
     "metadata": {},
     "output_type": "display_data"
    }
   ],
   "source": [
    "plt.plot(range(4),f1micro)\n",
    "\n",
    "plt.title(\"f1micro vs number of activation function\")\n",
    "x = np.array(range(4))\n",
    "y = np.array(f1micro)\n",
    "plt.xticks(x, activation)\n",
    "plt.plot(x, y)\n",
    "plt.show()"
   ]
  },
  {
   "cell_type": "code",
   "execution_count": 13,
   "metadata": {},
   "outputs": [
    {
     "data": {
      "text/plain": [
       "[0.7646464646464647,\n",
       " 0.8324675324675325,\n",
       " 0.9267676767676768,\n",
       " 0.9377344877344878]"
      ]
     },
     "execution_count": 13,
     "metadata": {},
     "output_type": "execute_result"
    }
   ],
   "source": [
    "accuracy"
   ]
  },
  {
   "cell_type": "code",
   "execution_count": 15,
   "metadata": {},
   "outputs": [
    {
     "data": {
      "text/plain": [
       "[0.7646464646464646,\n",
       " 0.8324675324675325,\n",
       " 0.9267676767676768,\n",
       " 0.9377344877344878]"
      ]
     },
     "execution_count": 15,
     "metadata": {},
     "output_type": "execute_result"
    }
   ],
   "source": [
    "f1macro"
   ]
  },
  {
   "cell_type": "code",
   "execution_count": 16,
   "metadata": {},
   "outputs": [
    {
     "data": {
      "text/plain": [
       "[0.7613616700563786,\n",
       " 0.8291322313878544,\n",
       " 0.9263919957974787,\n",
       " 0.9369559142819147]"
      ]
     },
     "execution_count": 16,
     "metadata": {},
     "output_type": "execute_result"
    }
   ],
   "source": [
    "f1micro"
   ]
  },
  {
   "cell_type": "code",
   "execution_count": null,
   "metadata": {},
   "outputs": [],
   "source": []
  }
 ],
 "metadata": {
  "kernelspec": {
   "display_name": "Python 3",
   "language": "python",
   "name": "python3"
  },
  "language_info": {
   "codemirror_mode": {
    "name": "ipython",
    "version": 3
   },
   "file_extension": ".py",
   "mimetype": "text/x-python",
   "name": "python",
   "nbconvert_exporter": "python",
   "pygments_lexer": "ipython3",
   "version": "3.6.4"
  }
 },
 "nbformat": 4,
 "nbformat_minor": 2
}
