{
 "cells": [
  {
   "cell_type": "code",
   "execution_count": 1,
   "metadata": {},
   "outputs": [
    {
     "name": "stderr",
     "output_type": "stream",
     "text": [
      "/home/vishay/anaconda3/lib/python3.6/site-packages/h5py/__init__.py:36: FutureWarning: Conversion of the second argument of issubdtype from `float` to `np.floating` is deprecated. In future, it will be treated as `np.float64 == np.dtype(float).type`.\n",
      "  from ._conv import register_converters as _register_converters\n",
      "Using TensorFlow backend.\n"
     ]
    }
   ],
   "source": [
    "import numpy\n",
    "import numpy as np\n",
    "import pandas\n",
    "import cv2\n",
    "from keras.models import Sequential\n",
    "from keras.layers import Dense\n",
    "from keras.layers import Activation\n",
    "from keras.wrappers.scikit_learn import KerasClassifier\n",
    "from keras.utils import np_utils\n",
    "from sklearn.metrics import f1_score\n",
    "import matplotlib.pyplot as plt"
   ]
  },
  {
   "cell_type": "code",
   "execution_count": 2,
   "metadata": {},
   "outputs": [],
   "source": [
    "# load dataset\n",
    "images = []\n",
    "labels = []\n",
    "from imutils import paths\n",
    "for imagePath in paths.list_images(\"/home/vishay/Downloads/tipr-second-assignment-master/data/MNIST\"):\n",
    "    images.append(cv2.imread(imagePath,0).flatten())\n",
    "    labels.append(imagePath.split('/')[-2])\n",
    "images = np.array(images)\n",
    "labels = np.array(labels,dtype = int)  "
   ]
  },
  {
   "cell_type": "code",
   "execution_count": 3,
   "metadata": {},
   "outputs": [],
   "source": [
    "dummy_y = np_utils.to_categorical(labels)"
   ]
  },
  {
   "cell_type": "code",
   "execution_count": 4,
   "metadata": {},
   "outputs": [],
   "source": [
    "from sklearn.model_selection import train_test_split\n",
    "X_train, X_test, y_train, y_test = train_test_split(images, dummy_y, test_size=0.33, random_state=42)"
   ]
  },
  {
   "cell_type": "code",
   "execution_count": 6,
   "metadata": {},
   "outputs": [],
   "source": [
    "def build_model():\n",
    "    global hidden_layer_sizes\n",
    "    model = Sequential()\n",
    "\n",
    "    model.add(Dense(hidden_layer_sizes[0], input_dim=784))\n",
    "    model.add(Activation('relu'))\n",
    "\n",
    "    for layer_size in hidden_layer_sizes[1:]:\n",
    "        model.add(Dense(layer_size))\n",
    "        model.add(Activation('relu'))\n",
    "\n",
    "    model.add(Dense(10))\n",
    "    model.add(Activation('softmax'))\n",
    "    model.compile(loss='categorical_crossentropy', optimizer='adam', metrics=['accuracy'])\n",
    "    return model"
   ]
  },
  {
   "cell_type": "code",
   "execution_count": 30,
   "metadata": {},
   "outputs": [],
   "source": [
    "units = [32,64,100,128,256,512,1028] "
   ]
  },
  {
   "cell_type": "code",
   "execution_count": 28,
   "metadata": {},
   "outputs": [],
   "source": [
    "units = [32,64]+units"
   ]
  },
  {
   "cell_type": "code",
   "execution_count": 18,
   "metadata": {},
   "outputs": [
    {
     "name": "stdout",
     "output_type": "stream",
     "text": [
      "Epoch 1/3\n",
      "28140/28140 [==============================] - 1s 47us/step - loss: 1.7926 - acc: 0.7022\n",
      "Epoch 2/3\n",
      "28140/28140 [==============================] - 1s 35us/step - loss: 0.4161 - acc: 0.8792\n",
      "Epoch 3/3\n",
      "28140/28140 [==============================] - 1s 36us/step - loss: 0.3298 - acc: 0.9041\n",
      "13860/13860 [==============================] - 0s 20us/step\n",
      "Epoch 1/3\n",
      "28140/28140 [==============================] - 2s 63us/step - loss: 1.2533 - acc: 0.7764\n",
      "Epoch 2/3\n",
      "28140/28140 [==============================] - 1s 48us/step - loss: 0.2805 - acc: 0.9189\n",
      "Epoch 3/3\n",
      "28140/28140 [==============================] - 1s 48us/step - loss: 0.2031 - acc: 0.9410\n",
      "13860/13860 [==============================] - 0s 23us/step\n"
     ]
    }
   ],
   "source": [
    "accuracy = []\n",
    "f1micro = []\n",
    "f1macro = []\n",
    "for i in units:\n",
    "    hidden_layer_sizes = [i]*5\n",
    "               \n",
    "    estimator = KerasClassifier(build_fn=build_model, epochs=3, batch_size=50, verbose=1)\n",
    "    estimator.fit(X_train,y_train)\n",
    "    s = estimator.predict(X_test)\n",
    "    label = [np.argmax(y_test[i,:]) for i in range(len(y_test))]\n",
    "    label = np.array(label)\n",
    "    total = 0\n",
    "    correct = 0\n",
    "    for i in range(len(s)):\n",
    "        total += 1\n",
    "        if s[i] == label[i]:\n",
    "            correct += 1\n",
    "    acc = correct/total\n",
    "\n",
    "    f1mi = f1_score(label, s, average='macro',labels=np.unique(s))  \n",
    "    f1ma = f1_score(label, s, average='micro',labels=np.unique(s)) \n",
    "    \n",
    "    accuracy.append(acc)\n",
    "    f1micro.append(f1mi)\n",
    "    f1macro.append(f1ma)\n"
   ]
  },
  {
   "cell_type": "code",
   "execution_count": 11,
   "metadata": {},
   "outputs": [],
   "source": [
    "acc1 = accuracy"
   ]
  },
  {
   "cell_type": "code",
   "execution_count": 12,
   "metadata": {},
   "outputs": [],
   "source": [
    "fma = f1macro"
   ]
  },
  {
   "cell_type": "code",
   "execution_count": 13,
   "metadata": {},
   "outputs": [],
   "source": [
    "fmi = f1micro"
   ]
  },
  {
   "cell_type": "code",
   "execution_count": 37,
   "metadata": {},
   "outputs": [
    {
     "data": {
      "image/png": "[encoded data removed]",
      "text/plain": [
       "<matplotlib.figure.Figure at 0x7fa63d549f98>"
      ]
     },
     "metadata": {},
     "output_type": "display_data"
    }
   ],
   "source": [
    "plt.plot(range(7),acc)\n",
    "\n",
    "plt.title(\"accuracy vs number of neurons in a hidden layer \")\n",
    "x = np.array(range(7))\n",
    "y = np.array(acc)\n",
    "plt.xticks(x, units)\n",
    "plt.plot(x, y)\n",
    "plt.show()"
   ]
  },
  {
   "cell_type": "code",
   "execution_count": 38,
   "metadata": {
    "scrolled": true
   },
   "outputs": [
    {
     "data": {
      "image/png": "[encoded data removed]",
      "text/plain": [
       "<matplotlib.figure.Figure at 0x7fa63d4cdb00>"
      ]
     },
     "metadata": {},
     "output_type": "display_data"
    }
   ],
   "source": [
    "plt.plot(range(7),fmac)\n",
    "\n",
    "plt.title(\"f1macro vs number of neurons in a hidden layer\")\n",
    "x = np.array(range(7))\n",
    "y = np.array(fmac)\n",
    "plt.xticks(x, units)\n",
    "\n",
    "plt.plot(x, y)\n",
    "plt.show()"
   ]
  },
  {
   "cell_type": "code",
   "execution_count": 39,
   "metadata": {},
   "outputs": [
    {
     "data": {
      "image/png": "[encoded data removed]",
      "text/plain": [
       "<matplotlib.figure.Figure at 0x7fa63d4fbdd8>"
      ]
     },
     "metadata": {},
     "output_type": "display_data"
    }
   ],
   "source": [
    "plt.plot(range(7),fmic)\n",
    "\n",
    "plt.title(\"f1micro vs number of neurons in a hidden layer\")\n",
    "x = np.array(range(7))\n",
    "y = np.array(fmic)\n",
    "plt.xticks(x, units)\n",
    "\n",
    "plt.plot(x, y)\n",
    "plt.show()"
   ]
  },
  {
   "cell_type": "code",
   "execution_count": 34,
   "metadata": {},
   "outputs": [
    {
     "data": {
      "text/plain": [
       "[0.9057779049786985,\n",
       " 0.9299775973712998,\n",
       " 0.9302122924497132,\n",
       " 0.9228331821222155,\n",
       " 0.09942166482552472,\n",
       " 0.17799395293808334,\n",
       " 0.1636303411725737]"
      ]
     },
     "execution_count": 34,
     "metadata": {},
     "output_type": "execute_result"
    }
   ],
   "source": [
    "fmic"
   ]
  },
  {
   "cell_type": "code",
   "execution_count": 35,
   "metadata": {},
   "outputs": [
    {
     "data": {
      "text/plain": [
       "[0.9073593073593074,\n",
       " 0.9306637806637806,\n",
       " 0.9306637806637806,\n",
       " 0.9230158730158731,\n",
       " 0.18290496114763896,\n",
       " 0.17799395293808334,\n",
       " 0.1636303411725737]"
      ]
     },
     "execution_count": 35,
     "metadata": {},
     "output_type": "execute_result"
    }
   ],
   "source": [
    "fmac"
   ]
  },
  {
   "cell_type": "code",
   "execution_count": 36,
   "metadata": {},
   "outputs": [
    {
     "data": {
      "text/plain": [
       "[0.9073593073593074,\n",
       " 0.9306637806637806,\n",
       " 0.9306637806637806,\n",
       " 0.9230158730158731,\n",
       " 0.11038961038961038,\n",
       " 0.09769119769119769,\n",
       " 0.0891053391053391]"
      ]
     },
     "execution_count": 36,
     "metadata": {},
     "output_type": "execute_result"
    }
   ],
   "source": [
    "acc"
   ]
  },
  {
   "cell_type": "code",
   "execution_count": null,
   "metadata": {},
   "outputs": [],
   "source": []
  }
 ],
 "metadata": {
  "kernelspec": {
   "display_name": "Python 3",
   "language": "python",
   "name": "python3"
  },
  "language_info": {
   "codemirror_mode": {
    "name": "ipython",
    "version": 3
   },
   "file_extension": ".py",
   "mimetype": "text/x-python",
   "name": "python",
   "nbconvert_exporter": "python",
   "pygments_lexer": "ipython3",
   "version": "3.6.4"
  }
 },
 "nbformat": 4,
 "nbformat_minor": 2
}
